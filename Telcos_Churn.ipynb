{
 "cells": [
  {
   "cell_type": "code",
   "execution_count": 6,
   "id": "f79525c9-eff3-49a7-a77a-abecee5b228c",
   "metadata": {},
   "outputs": [
    {
     "name": "stdout",
     "output_type": "stream",
     "text": [
      "<class 'pandas.core.frame.DataFrame'>\n",
      "RangeIndex: 7043 entries, 0 to 7042\n",
      "Data columns (total 21 columns):\n",
      " #   Column            Non-Null Count  Dtype  \n",
      "---  ------            --------------  -----  \n",
      " 0   customerID        7043 non-null   object \n",
      " 1   gender            7043 non-null   object \n",
      " 2   SeniorCitizen     7043 non-null   int64  \n",
      " 3   Partner           7043 non-null   object \n",
      " 4   Dependents        7043 non-null   object \n",
      " 5   tenure            7043 non-null   int64  \n",
      " 6   PhoneService      7043 non-null   object \n",
      " 7   MultipleLines     7043 non-null   object \n",
      " 8   InternetService   7043 non-null   object \n",
      " 9   OnlineSecurity    7043 non-null   object \n",
      " 10  OnlineBackup      7043 non-null   object \n",
      " 11  DeviceProtection  7043 non-null   object \n",
      " 12  TechSupport       7043 non-null   object \n",
      " 13  StreamingTV       7043 non-null   object \n",
      " 14  StreamingMovies   7043 non-null   object \n",
      " 15  Contract          7043 non-null   object \n",
      " 16  PaperlessBilling  7043 non-null   object \n",
      " 17  PaymentMethod     7043 non-null   object \n",
      " 18  MonthlyCharges    7043 non-null   float64\n",
      " 19  TotalCharges      7043 non-null   object \n",
      " 20  Churn             7043 non-null   object \n",
      "dtypes: float64(1), int64(2), object(18)\n",
      "memory usage: 1.1+ MB\n"
     ]
    }
   ],
   "source": [
    "import pandas as pd\n",
    "\n",
    "file_path = \"C:/Users/DELL/Downloads/archive (12)/Telcos_Churn.csv\"\n",
    "df = pd.read_csv(file_path)\n",
    "\n",
    "df.head()\n",
    "# df.shape\n",
    "df.info()\n",
    "# df.describe()\n",
    "\n",
    "# change seniorcitizen to obj, total charges to float\n",
    "df[\"SeniorCitizen\"] = df[\"SeniorCitizen\"].astype(object)\n",
    "df[\"TotalCharges\"] = pd.to_numeric(df[\"TotalCharges\"], errors= \"coerce\")\n",
    "\n",
    "df.dtypes # confirm type change\n",
    "\n",
    "# checking for NULL or missing values\n",
    "df.isnull().sum()\n",
    "\n",
    "# fill missing values (11) in TotalCharges with the formula Tenure * MonthlyCharges\n",
    "df[\"TotalCharges\"] = df[\"TotalCharges\"].fillna(df[\"MonthlyCharges\"] * df[\"tenure\"])\n",
    "\n",
    "df.isnull().sum() #checked for nulls again \n",
    "\n",
    "# highlight the columns with yes/no values\n",
    "yesno_cols = [\"Partner\", \"Dependents\", \"PhoneService\", \"PaperlessBilling\", \"Churn\"]\n",
    "df[yesno_cols] = df[yesno_cols].apply(lambda x: x.map({\"Yes\": 1, \"No\": 0}))\n",
    "df[yesno_cols].head()\n",
    "\n",
    "# save cleaned dataset\n",
    "df.to_csv(\"cleaned_Telcos_Churn.csv\", index= False)"
   ]
  },
  {
   "cell_type": "code",
   "execution_count": null,
   "id": "68491b1f-6ac4-4a87-924f-f8dd9f5875ff",
   "metadata": {},
   "outputs": [],
   "source": []
  }
 ],
 "metadata": {
  "kernelspec": {
   "display_name": "Python [conda env:base] *",
   "language": "python",
   "name": "conda-base-py"
  },
  "language_info": {
   "codemirror_mode": {
    "name": "ipython",
    "version": 3
   },
   "file_extension": ".py",
   "mimetype": "text/x-python",
   "name": "python",
   "nbconvert_exporter": "python",
   "pygments_lexer": "ipython3",
   "version": "3.12.7"
  }
 },
 "nbformat": 4,
 "nbformat_minor": 5
}
